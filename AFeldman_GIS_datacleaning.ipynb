{
 "cells": [
  {
   "cell_type": "code",
   "execution_count": 16,
   "metadata": {},
   "outputs": [
    {
     "name": "stdout",
     "output_type": "stream",
     "text": [
      "   FID      COUNTRY ISO_CC CONTINENT          LAND_TYPE  LAND_RANK  \\\n",
      "0    1  Afghanistan    AFG      Asia       Primary land          5   \n",
      "1    2      Albania    ALB    Europe       Primary land          5   \n",
      "2    3      Albania    ALB    Europe  Very small island          1   \n",
      "3    4      Albania    ALB    Europe       Small island          2   \n",
      "4    5      Algeria    DZA    Africa       Small island          2   \n",
      "\n",
      "    COUNTRYAFF  SHAPE_Length  SHAPE_Area  \n",
      "0  Afghanistan     59.141644   62.580697  \n",
      "1      Albania     12.826590    3.083112  \n",
      "2      Albania      0.080608    0.000058  \n",
      "3      Albania      0.175080    0.000764  \n",
      "4      Algeria      0.044204    0.000060  \n",
      "(651, 9)\n",
      "(243, 4)\n",
      "  LocationState  LocationCode     StateNme Note\n",
      "0           AFG           700  Afghanistan  NaN\n",
      "1           ALB           339      Albania  NaN\n",
      "2           ALB           339      Albania  NaN\n",
      "3           ALG           615      Algeria  NaN\n",
      "4           AND           232      Andorra  NaN\n"
     ]
    }
   ],
   "source": [
    "import pandas as pd\n",
    "import os\n",
    "\n",
    "#import csvs, join many to one on \"Location\" and \"CCode\" variables\n",
    "\n",
    "cowdata = pd.read_csv(\"/Users/annafeldman/Desktop/GIS Final/COW-country-codes-edited.csv\")\n",
    "esricountries = pd.read_csv(\"/Users/annafeldman/Desktop/GIS Final/World_Countries.csv\")\n",
    "print(esricountries.head())\n",
    "\n",
    "print(esricountries.shape) # (651, 9)\n",
    "print(cowdata.shape) # 243 x 4\n",
    "\n",
    "#rename cols in cowdata \n",
    "cowdata = cowdata.rename(columns={\"StateAbb\": \"LocationState\", \"CCode\": \"LocationCode\"})\n",
    "print(cowdata.head())"
   ]
  },
  {
   "cell_type": "code",
   "execution_count": 17,
   "metadata": {},
   "outputs": [
    {
     "name": "stdout",
     "output_type": "stream",
     "text": [
      "(612, 14)\n",
      "  LocationState  LocationCode     StateNme Note  FID      COUNTRY ISO_CC  \\\n",
      "0           AFG           700  Afghanistan  NaN  1.0  Afghanistan    AFG   \n",
      "1           ALB           339      Albania  NaN  2.0      Albania    ALB   \n",
      "2           ALB           339      Albania  NaN  3.0      Albania    ALB   \n",
      "3           ALB           339      Albania  NaN  4.0      Albania    ALB   \n",
      "4           ALB           339      Albania  NaN  2.0      Albania    ALB   \n",
      "5           ALB           339      Albania  NaN  3.0      Albania    ALB   \n",
      "6           ALB           339      Albania  NaN  4.0      Albania    ALB   \n",
      "7           ALG           615      Algeria  NaN  5.0      Algeria    DZA   \n",
      "8           ALG           615      Algeria  NaN  6.0      Algeria    DZA   \n",
      "9           ALG           615      Algeria  NaN  7.0      Algeria    DZA   \n",
      "\n",
      "  CONTINENT          LAND_TYPE  LAND_RANK   COUNTRYAFF  SHAPE_Length  \\\n",
      "0      Asia       Primary land        5.0  Afghanistan     59.141644   \n",
      "1    Europe       Primary land        5.0      Albania     12.826590   \n",
      "2    Europe  Very small island        1.0      Albania      0.080608   \n",
      "3    Europe       Small island        2.0      Albania      0.175080   \n",
      "4    Europe       Primary land        5.0      Albania     12.826590   \n",
      "5    Europe  Very small island        1.0      Albania      0.080608   \n",
      "6    Europe       Small island        2.0      Albania      0.175080   \n",
      "7    Africa       Small island        2.0      Algeria      0.044204   \n",
      "8    Africa  Very small island        1.0      Algeria      0.304431   \n",
      "9    Africa       Primary land        5.0      Algeria     78.407886   \n",
      "\n",
      "   SHAPE_Area _merge  \n",
      "0   62.580697   both  \n",
      "1    3.083112   both  \n",
      "2    0.000058   both  \n",
      "3    0.000764   both  \n",
      "4    3.083112   both  \n",
      "5    0.000058   both  \n",
      "6    0.000764   both  \n",
      "7    0.000060   both  \n",
      "8    0.000131   both  \n",
      "9  212.586604   both  \n"
     ]
    }
   ],
   "source": [
    "#many-to-one merge in pandas, left join\n",
    "#cowcountriesmerged = pd.merge(cowdata, esricountries, how=\"left\", left_on=\"StateNme\", right_on=\"COUNTRY\")\n",
    "cowcountriesmerged = cowdata.merge(esricountries, how='left', left_on=\"StateNme\", right_on=\"COUNTRY\", indicator=True)\n",
    "print(cowcountriesmerged.shape)\n",
    "print(cowcountriesmerged.head(10))\n",
    "#column_names = list(joinedmiptocow.columns)\n",
    "#print(column_names)"
   ]
  },
  {
   "cell_type": "code",
   "execution_count": 18,
   "metadata": {},
   "outputs": [],
   "source": [
    "#to csv - this is a file that has all of state country codes (with nulls) and country names\n",
    "cowcountriesmerged.to_csv('joined-countriestocow.csv')\n",
    "# the file above still needs to merge to MIP data\n",
    "# possibly x,y locations from dispnum variable matching to COW datasets\n"
   ]
  },
  {
   "cell_type": "code",
   "execution_count": 19,
   "metadata": {},
   "outputs": [
    {
     "name": "stdout",
     "output_type": "stream",
     "text": [
      "  State2 State3 State4 State5 State6 State7  State2_Code  State3_Code  \\\n",
      "0    FRN    NaN    NaN    NaN    NaN    NaN        220.0          NaN   \n",
      "1    LIB    NaN    NaN    NaN    NaN    NaN        620.0          NaN   \n",
      "2    MEX    NaN    NaN    NaN    NaN    NaN         70.0          NaN   \n",
      "3    SPN    FRN    NaN    NaN    NaN    NaN        220.0        230.0   \n",
      "4    SPN    NaN    NaN    NaN    NaN    NaN        230.0          NaN   \n",
      "\n",
      "   State4_Code  State5_Code  ...  US nGDP capita   US rGDP capita  \\\n",
      "0          NaN          NaN  ...            82.77         1486.37   \n",
      "1          NaN          NaN  ...            94.12         1611.78   \n",
      "2          NaN          NaN  ...            96.72         1658.16   \n",
      "3          NaN          NaN  ...            96.72         1658.16   \n",
      "4          NaN          NaN  ...            97.73         1668.70   \n",
      "\n",
      "   US rGDPCChange  UNRegN                     UNRegT UNSUBREG  \\\n",
      "0             NaN   419.0  Latin America & Caribbean     13.0   \n",
      "1            8.44     2.0                     Africa     15.0   \n",
      "2            2.88   419.0  Latin America & Caribbean     13.0   \n",
      "3               0    21.0                 N. America     21.0   \n",
      "4            0.64    21.0                 N. America     21.0   \n",
      "\n",
      "                SubRegT SubRegN  OECDReg  Population_in_thousands  \n",
      "0            N. America    14.0      lac                   4990.0  \n",
      "1          North Africa    15.0     mena                   5461.0  \n",
      "2  Central & S. America    14.0      lac                   6379.0  \n",
      "3            N. America    21.0       na                   6379.0  \n",
      "4            N. America    21.0       na                   7224.0  \n",
      "\n",
      "[5 rows x 65 columns]\n",
      "float64\n"
     ]
    }
   ],
   "source": [
    "#additional join/merge x 2 - cowcountriesmerged to mipdata based on a) geo location and b) political\n",
    "#redo this for geo data\n",
    "mipdata = pd.read_csv(\"/Users/annafeldman/Desktop/GIS Final/EditedMIPData.csv\")\n",
    "print(mipdata.head()) #mipdata edited manually, now will match based on Location Code (code for intervention location, not political necessarily)\n",
    "print(mipdata['Location_Code'].dtype)\n",
    "#print(cowcountriesmerged.dtypes)\n"
   ]
  },
  {
   "cell_type": "code",
   "execution_count": 20,
   "metadata": {},
   "outputs": [
    {
     "name": "stdout",
     "output_type": "stream",
     "text": [
      "float64\n",
      "float64\n"
     ]
    }
   ],
   "source": [
    "# need to change so dtypes match for below join - change both to float\n",
    "# LocationCode in cowcountriesmerged is int64 and Location_Code / State2_Code are float64\n",
    "# example format: convert column \"a\" of a DataFrame >> df['Discount']=df.Discount.replace('',np.nan).astype(float)\n",
    "\n",
    "mipdata['Location_Code'] = pd.to_numeric(mipdata['Location_Code'], errors='coerce')\n",
    "print(mipdata['Location_Code'].dtype)\n",
    "\n",
    "cowcountriesmerged['LocationCode'] = cowcountriesmerged['LocationCode'].astype(float)\n",
    "print(cowcountriesmerged['LocationCode'].dtype)\n"
   ]
  },
  {
   "cell_type": "code",
   "execution_count": 21,
   "metadata": {},
   "outputs": [],
   "source": [
    "# political:\n",
    "mipcowcountriesmerged_polit = cowcountriesmerged.merge(mipdata, how='left', left_on=\"LocationCode\", right_on=\"State2_Code\")\n",
    "# geo:\n",
    "mipcowcountriesmerged_geo = cowcountriesmerged.merge(mipdata, how='left', left_on=\"LocationCode\", right_on=\"Location_Code\")\n",
    "\n",
    "#to csv - this is a file that has state 2 countries matched from esri\n",
    "#mipcowcountriesmerged_polit.to_csv('countriesmerged_political.csv')\n",
    "mipcowcountriesmerged_geo.to_csv('countriesmerged_geo.csv') #check these csvs - at this point have lost data \n"
   ]
  },
  {
   "cell_type": "code",
   "execution_count": 22,
   "metadata": {},
   "outputs": [
    {
     "name": "stdout",
     "output_type": "stream",
     "text": [
      "  LocationState  LocationCode LocationName Note  FID EsriCountryName ISO_CC  \\\n",
      "0           AFG         700.0  Afghanistan  NaN  1.0     Afghanistan    AFG   \n",
      "1           AFG         700.0  Afghanistan  NaN  1.0     Afghanistan    AFG   \n",
      "2           AFG         700.0  Afghanistan  NaN  1.0     Afghanistan    AFG   \n",
      "3           AFG         700.0  Afghanistan  NaN  1.0     Afghanistan    AFG   \n",
      "4           ALB         339.0      Albania  NaN  2.0         Albania    ALB   \n",
      "\n",
      "  EsriContinent     LAND_TYPE  LAND_RANK  ... US nGDP capita   US rGDP capita  \\\n",
      "0          Asia  Primary land        5.0  ...        32817.92        43592.71   \n",
      "1          Asia  Primary land        5.0  ...        37099.83        46496.98   \n",
      "2          Asia  Primary land        5.0  ...        37099.83        46496.98   \n",
      "3          Asia  Primary land        5.0  ...        56700.89        54109.73   \n",
      "4        Europe  Primary land        5.0  ...         2763.28        17066.63   \n",
      "\n",
      "   US rGDPCChange UNRegN  UNRegT UNSUBREG    SubRegT SubRegN OECDReg  \\\n",
      "0            3.27  142.0    Asia     62.0       Asia    35.0      sa   \n",
      "1               0  142.0    Asia     62.0       Asia    35.0      sa   \n",
      "2               0  142.0    Asia     62.0       Asia    35.0      sa   \n",
      "3            2.12  142.0    Asia     62.0       Asia    35.0      sa   \n",
      "4           -2.37  150.0  Europe     39.0  S. Europe    39.0     eca   \n",
      "\n",
      "  Population_in_thousands  \n",
      "0                276154.0  \n",
      "1                285225.0  \n",
      "2                285225.0  \n",
      "3                321323.0  \n",
      "4                174141.0  \n",
      "\n",
      "[5 rows x 79 columns]\n"
     ]
    }
   ],
   "source": [
    "mipcowcountriesmerged_polit = mipcowcountriesmerged_polit.rename(columns={'StateNme': 'LocationName', 'COUNTRY': 'EsriCountryName', 'CONTINENT':'EsriContinent'})\n",
    "mipcowcountriesmerged_geo = mipcowcountriesmerged_geo.rename(columns={'StateNme': 'LocationName', 'COUNTRY': 'EsriCountryName', 'CONTINENT':'EsriContinent'})\n",
    "print(mipcowcountriesmerged_geo.head())"
   ]
  },
  {
   "cell_type": "code",
   "execution_count": 26,
   "metadata": {},
   "outputs": [
    {
     "name": "stdout",
     "output_type": "stream",
     "text": [
      "  LocationState  Start_year                                        Description\n",
      "0           AFG      1998.0  US uses cruise missiles to attack suspected te...\n",
      "1           AFG      2001.0  Invasion. ISAF in Afghanistan to help stabiliz...\n",
      "2           AFG      2001.0                         Operation Enduring Freedom\n",
      "3           AFG      2015.0                       Operation Freedom's Sentinel\n",
      "4           ALB      1958.0  Albanian fighters force down a US Air Force je...\n",
      "5           ALB      1997.0  Albania. On March 15, 1997, President Clinton ...\n",
      "6           ALB      1958.0  Albanian fighters force down a US Air Force je...\n",
      "7           ALB      1997.0  Albania. On March 15, 1997, President Clinton ...\n",
      "8           ALB      1958.0  Albanian fighters force down a US Air Force je...\n",
      "9           ALB      1997.0  Albania. On March 15, 1997, President Clinton ...\n",
      "(2545, 79)\n",
      "  LocationState  Start_year                                        Description\n",
      "0           AFG      1998.0  US uses cruise missiles to attack suspected te...\n",
      "1           AFG      2001.0  Invasion. ISAF in Afghanistan to help stabiliz...\n",
      "2           AFG      2001.0                         Operation Enduring Freedom\n",
      "3           AFG      2015.0                       Operation Freedom's Sentinel\n",
      "4           ALB      1958.0  Albanian fighters force down a US Air Force je...\n",
      "5           ALB      1997.0  Albania. On March 15, 1997, President Clinton ...\n",
      "6           ALG      1815.0  Algiers. The second Barbary War was declared a...\n",
      "7           ANG      1860.0  Angola, Portuguese West Africa. March 1. Ameri...\n",
      "8           ANG      1976.0           CIA assists South African-backed rebels.\n",
      "9           ARG      1833.0  October 31 to November 15. A force was sent as...\n",
      "(565, 79)\n",
      "  LocationState  Start_year                                        Description\n",
      "0           AFG      1998.0  US uses cruise missiles to attack suspected te...\n",
      "1           AFG      2001.0  Invasion. ISAF in Afghanistan to help stabiliz...\n",
      "2           AFG      2001.0                         Operation Enduring Freedom\n",
      "3           AFG      2015.0                       Operation Freedom's Sentinel\n",
      "4           ALB      1958.0  Albanian fighters force down a US Air Force je...\n",
      "5           ALB      1997.0  Albania. On March 15, 1997, President Clinton ...\n",
      "6           ANG      1860.0  Angola, Portuguese West Africa. March 1. Ameri...\n",
      "7           ANG      1976.0           CIA assists South African-backed rebels.\n",
      "8           ARG      1833.0  October 31 to November 15. A force was sent as...\n",
      "9           ARG      1852.0  Argentina. February 3 to 12, 1852; September 1...\n",
      "(565, 79)\n"
     ]
    }
   ],
   "source": [
    "#de dup mipcowcountriesmerged_geo and mipcowcountriesmerged_polit\n",
    "\n",
    "print(mipcowcountriesmerged_geo[['LocationState','Start_year', 'Description']].head(10))\n",
    "print(mipcowcountriesmerged_geo.shape)\n",
    "\n",
    "dedup_geo = mipcowcountriesmerged_geo.drop_duplicates( \n",
    "  subset = ['Start_year', 'Description'], \n",
    "  keep = 'last').reset_index(drop = True) \n",
    "  \n",
    "# print latest dataframe \n",
    "print(dedup_geo[['LocationState','Start_year', 'Description']].head(10))\n",
    "print(dedup_geo.shape) # 552 lines by 79 columns\n",
    "\n",
    "dedup_polit = mipcowcountriesmerged_polit.drop_duplicates( \n",
    "  subset = ['Start_year', 'Description'], \n",
    "  keep = 'last').reset_index(drop = True) \n",
    "  \n",
    "# print latest dataframe \n",
    "print(dedup_polit[['LocationState','Start_year', 'Description']].head(10))\n",
    "print(dedup_polit.shape) # 565 lines by 79 columns\n",
    "\n",
    "#export as new csv - manually edit any blanks\n",
    "dedup_geo.to_csv('dedup_editedXYmipdata_geo.csv')\n"
   ]
  },
  {
   "cell_type": "code",
   "execution_count": 27,
   "metadata": {},
   "outputs": [
    {
     "name": "stdout",
     "output_type": "stream",
     "text": [
      "   ESRICity_ID ESRICity_Name GMI_ADMIN                       ADMIN_NAME  \\\n",
      "0         1757     Abu Dhabi   ARE-AZA                         Abu Zaby   \n",
      "1          880         Abuja   NGA-FCT  Abuja Capital Territory (Abuja)   \n",
      "2          843         Accra   GHA-GAC                    Greater Accra   \n",
      "3           23     Adamstown       PCN                     Pitcairn Is.   \n",
      "4         1384   Addis Ababa   ETH-SHE                            Shewa   \n",
      "\n",
      "  FIPS_CNTRY  ESRICity_CountryName                           STATUS  \\\n",
      "0         AE  United Arab Emirates  National and provincial capital   \n",
      "1         NI               Nigeria  National and provincial capital   \n",
      "2         GH                 Ghana  National and provincial capital   \n",
      "3         PC          Pitcairn Is.  National and provincial capital   \n",
      "4         ET              Ethiopia  National and provincial capital   \n",
      "\n",
      "   EsriCity_X  EsriCity_Y  \n",
      "0   54.370998   24.476004  \n",
      "1    7.256385    9.057267  \n",
      "2   -0.200925    5.558562  \n",
      "3 -130.103001  -25.065999  \n",
      "4   38.700000    9.029997  \n",
      "(229, 9)\n",
      "(565, 80)\n"
     ]
    }
   ],
   "source": [
    "#new, manually edited\n",
    "dedup_geo = pd.read_csv('/Users/annafeldman/Desktop/GIS Final/dedup_editedXYmipdata_geo_manualedit.csv')\n",
    "\n",
    "esricities = pd.read_csv(\"/Users/annafeldman/Desktop/GIS Final/World_Capitals.csv\")\n",
    "esricities = esricities[[\"OBJECTID\", \"CITY_NAME\", \"GMI_ADMIN\", \"ADMIN_NAME\", \"FIPS_CNTRY\", \"CNTRY_NAME\", \"STATUS\", \"POINT_X\", \"POINT_Y\"]]\n",
    "esricities = esricities.rename(columns={'OBJECTID': 'ESRICity_ID', 'CITY_NAME': 'ESRICity_Name', \n",
    "                                        'CNTRY_NAME': 'ESRICity_CountryName', 'POINT_X': 'EsriCity_X', 'POINT_Y': 'EsriCity_Y'})\n",
    "print(esricities.head())\n",
    "print(esricities.shape) #(229, 9)\n",
    "\n",
    "print(dedup_geo.shape) # (565, 79), working with de dupped and manually edited file\n",
    "#now going to use esricities (edited World Capitals csv) with it\n"
   ]
  },
  {
   "cell_type": "code",
   "execution_count": 28,
   "metadata": {},
   "outputs": [
    {
     "name": "stdout",
     "output_type": "stream",
     "text": [
      "(565, 89)\n",
      "(565, 88)\n"
     ]
    }
   ],
   "source": [
    "dedup_geo =dedup_geo.merge(esricities, how='left', left_on=\"EsriCountryName\", right_on=\"ESRICity_CountryName\")\n",
    "print(dedup_geo.shape) #added columns, now 88 columns by 565 lines\n",
    "dedup_polit = dedup_polit.merge(esricities, how='left', left_on=\"EsriCountryName\", right_on=\"ESRICity_CountryName\")\n",
    "print(dedup_polit.shape) #added columns, now 88 columns by 565 lines\n",
    "\n",
    "dedup_geo.to_csv('citiesXYmipdatamerged_geo.csv')\n",
    "# dedup_polit.to_csv('citiesXYmipdatamerged_polit.csv') #next, manually cleaned political csv, then geo csv"
   ]
  },
  {
   "cell_type": "code",
   "execution_count": 31,
   "metadata": {},
   "outputs": [
    {
     "name": "stdout",
     "output_type": "stream",
     "text": [
      "EsriCountryName\n",
      "China          47\n",
      "Mexico         30\n",
      "Cuba           26\n",
      "Russia         25\n",
      "North Korea    21\n",
      "               ..\n",
      "Niger           1\n",
      "Netherlands     1\n",
      "Mozambique      1\n",
      "Morocco         1\n",
      "Zimbabwe        1\n",
      "Name: count, Length: 96, dtype: int64\n"
     ]
    }
   ],
   "source": [
    "#count occurrences of each country and add to new column - need to repeat below with geo csv\n",
    "#data['column_name'].value_counts()\n",
    "#countdata = pd.read_csv(\"/Users/annafeldman/Desktop/GIS Final/citiesXYmipdatamerged_polit_manualedit.csv\")\n",
    "countdata = pd.read_csv(\"/Users/annafeldman/Desktop/GIS Final/citiesXYmipdatamerged_geo_manualedit.csv\")\n",
    "#print(countdata.head())\n",
    "\n",
    "#print(countdata['EsriCountryName'].value_counts())\n",
    "country_counts = countdata['EsriCountryName'].value_counts()\n",
    "print(country_counts) #list of countries with their counts"
   ]
  },
  {
   "cell_type": "code",
   "execution_count": 32,
   "metadata": {},
   "outputs": [
    {
     "name": "stdout",
     "output_type": "stream",
     "text": [
      "   Index  Unnamed: 0 LocationState  LocationCode LocationName Note  FID  \\\n",
      "0      0           0           AFG           700  Afghanistan  NaN  1.0   \n",
      "1      1           1           AFG           700  Afghanistan  NaN  1.0   \n",
      "2      2           2           AFG           700  Afghanistan  NaN  1.0   \n",
      "3      3           3           AFG           700  Afghanistan  NaN  1.0   \n",
      "4      4           4           ALB           339      Albania  NaN  4.0   \n",
      "\n",
      "  EsriCountryName ISO_CC EsriContinent  ... ESRICity_ID  ESRICity_Name  \\\n",
      "0     Afghanistan    AFG          Asia  ...      2063.0          Kabul   \n",
      "1     Afghanistan    AFG          Asia  ...      2063.0          Kabul   \n",
      "2     Afghanistan    AFG          Asia  ...      2063.0          Kabul   \n",
      "3     Afghanistan    AFG          Asia  ...      2063.0          Kabul   \n",
      "4         Albania    ALB        Europe  ...      1129.0         Tirana   \n",
      "\n",
      "  GMI_ADMIN  ADMIN_NAME  FIPS_CNTRY ESRICity_CountryName  \\\n",
      "0   AFG-KAB       Kabol          AF          Afghanistan   \n",
      "1   AFG-KAB       Kabol          AF          Afghanistan   \n",
      "2   AFG-KAB       Kabol          AF          Afghanistan   \n",
      "3   AFG-KAB       Kabol          AF          Afghanistan   \n",
      "4   ALB-TIR      Tirane          AL              Albania   \n",
      "\n",
      "                            STATUS EsriCity_X EsriCity_Y count  \n",
      "0  National and provincial capital  69.136758  34.530912   4.0  \n",
      "1  National and provincial capital  69.136758  34.530912   4.0  \n",
      "2  National and provincial capital  69.136758  34.530912   4.0  \n",
      "3  National and provincial capital  69.136758  34.530912   4.0  \n",
      "4  National and provincial capital  19.832004  41.331996   2.0  \n",
      "\n",
      "[5 rows x 91 columns]\n"
     ]
    }
   ],
   "source": [
    "# - need to repeat below with geo csv\n",
    "countdata = countdata.merge(country_counts, how=\"left\", left_on=\"EsriCountryName\", right_on=\"EsriCountryName\")\n",
    "print(countdata.head())\n",
    "countdata.to_csv('addcount_final_geo.csv')"
   ]
  },
  {
   "cell_type": "code",
   "execution_count": null,
   "metadata": {},
   "outputs": [
    {
     "name": "stdout",
     "output_type": "stream",
     "text": [
      "  LocationState  Start_year                                        Description\n",
      "0           USA        1798  Undeclared Naval War with France. This contest...\n",
      "1           LIB        1801  Tripoli. The First Barbary War included the US...\n",
      "2           MEX        1806  Captain Z. M. Pike, with a platoon of troops, ...\n",
      "3           USA        1806  Gulf of Mexico. American gunboats operated fro...\n",
      "4           USA        1810  West Florida (Spanish territory). Governor Wil...\n",
      "5           USA        1812  Amelia Island and other parts of east Florida,...\n",
      "6           USA        1812  War of 1812. On June 18, 1812, the United Stat...\n",
      "7           SPN        1813  West Florida (Spanish territory). On authority...\n",
      "8           SPN        1813  West Florida (Spanish territory). On authority...\n",
      "9           SPN        1813  West Florida (Spanish territory). On authority...\n",
      "  LocationState  Start_year                                        Description\n",
      "0           USA        1798  Undeclared Naval War with France. This contest...\n",
      "1           LIB        1801  Tripoli. The First Barbary War included the US...\n",
      "2           MEX        1806  Captain Z. M. Pike, with a platoon of troops, ...\n",
      "3           USA        1806  Gulf of Mexico. American gunboats operated fro...\n",
      "4           USA        1810  West Florida (Spanish territory). Governor Wil...\n",
      "5           USA        1812  Amelia Island and other parts of east Florida,...\n",
      "6           USA        1812  War of 1812. On June 18, 1812, the United Stat...\n",
      "7           SPN        1813  West Florida (Spanish territory). On authority...\n",
      "8           ALG        1815  Algiers. The second Barbary War was declared a...\n",
      "9           SPN        1817  Spanish Florida—First Seminole War. The Semino...\n"
     ]
    }
   ],
   "source": [
    "# #delete duplicates after manual editing\n",
    "# import pandas as pd \n",
    "# #reimport csv\n",
    "# #delete entries where year and description are identical - true dups 'Start_year', 'Description'\n",
    "# dedup = pd.read_csv(\"/Users/annafeldman/Desktop/GIS Final/citiesXYmipdatamerged_geo_citiesedited.csv\")\n",
    "# print(dedup[['LocationState','Start_year', 'Description']].head(10))\n",
    "\n",
    "# newdf = dedup.drop_duplicates( \n",
    "#   subset = ['Start_year', 'Description'], \n",
    "#   keep = 'last').reset_index(drop = True) \n",
    "  \n",
    "# # print latest dataframe \n",
    "# print(newdf[['LocationState','Start_year', 'Description']].head(10))\n",
    "\n",
    "# #export as new csv\n",
    "# newdf.to_csv('dedup_editedXYmipdata.csv')\n"
   ]
  }
 ],
 "metadata": {
  "kernelspec": {
   "display_name": "Python 3",
   "language": "python",
   "name": "python3"
  },
  "language_info": {
   "codemirror_mode": {
    "name": "ipython",
    "version": 3
   },
   "file_extension": ".py",
   "mimetype": "text/x-python",
   "name": "python",
   "nbconvert_exporter": "python",
   "pygments_lexer": "ipython3",
   "version": "3.12.0"
  }
 },
 "nbformat": 4,
 "nbformat_minor": 2
}
